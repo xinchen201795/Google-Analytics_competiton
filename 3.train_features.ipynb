{
 "cells": [
  {
   "cell_type": "code",
   "execution_count": 34,
   "metadata": {
    "collapsed": true
   },
   "outputs": [],
   "source": [
    "import pandas as pd\n",
    "import warnings\n",
    "warnings.filterwarnings('ignore')"
   ]
  },
  {
   "cell_type": "code",
   "execution_count": 35,
   "metadata": {
    "collapsed": true
   },
   "outputs": [],
   "source": [
    "train = pd.read_csv('train_clean.csv')\n",
    "test = pd.read_csv('test_clean.csv')"
   ]
  },
  {
   "cell_type": "code",
   "execution_count": 36,
   "metadata": {},
   "outputs": [
    {
     "data": {
      "text/plain": [
       "(903653, 37)"
      ]
     },
     "execution_count": 36,
     "metadata": {},
     "output_type": "execute_result"
    }
   ],
   "source": [
    "train.shape"
   ]
  },
  {
   "cell_type": "code",
   "execution_count": 37,
   "metadata": {},
   "outputs": [
    {
     "data": {
      "text/plain": [
       "723803"
      ]
     },
     "execution_count": 37,
     "metadata": {},
     "output_type": "execute_result"
    }
   ],
   "source": [
    "train['fullVisitorId'].nunique()"
   ]
  },
  {
   "cell_type": "code",
   "execution_count": 38,
   "metadata": {},
   "outputs": [
    {
     "data": {
      "text/plain": [
       "(804684, 36)"
      ]
     },
     "execution_count": 38,
     "metadata": {},
     "output_type": "execute_result"
    }
   ],
   "source": [
    "test.shape"
   ]
  },
  {
   "cell_type": "code",
   "execution_count": 39,
   "metadata": {},
   "outputs": [
    {
     "data": {
      "text/plain": [
       "650489"
      ]
     },
     "execution_count": 39,
     "metadata": {},
     "output_type": "execute_result"
    }
   ],
   "source": [
    "test['fullVisitorId'].nunique()"
   ]
  },
  {
   "cell_type": "code",
   "execution_count": 40,
   "metadata": {},
   "outputs": [
    {
     "data": {
      "text/plain": [
       "array([False,  True])"
      ]
     },
     "execution_count": 40,
     "metadata": {},
     "output_type": "execute_result"
    }
   ],
   "source": [
    "train['device.isMobile'].unique()"
   ]
  },
  {
   "cell_type": "code",
   "execution_count": 41,
   "metadata": {},
   "outputs": [
    {
     "data": {
      "text/plain": [
       "array([1, 0])"
      ]
     },
     "execution_count": 41,
     "metadata": {},
     "output_type": "execute_result"
    }
   ],
   "source": [
    "train['totals.newVisits'].unique()"
   ]
  },
  {
   "cell_type": "code",
   "execution_count": 42,
   "metadata": {},
   "outputs": [
    {
     "data": {
      "text/plain": [
       "array([  1,   2,   3,   4,   5,   6,   7,   8,   9,  10,  11,  12,  13,\n",
       "        14,  15,  16,  17,  18,  20,  19,  21,  25,  22,  26,  23,  24,\n",
       "        30,  27,  29,  28,  32,  31,  34,  33,  38,  35,  40,  36,  37,\n",
       "        39,  43,  45,  47,  52,  44,  50,  46,  49,  51,  56,  59,  71,\n",
       "        57,  82,  84,  92,  90,  41,  79, 138,  48,  69, 112,  42,  65,\n",
       "        60,  63,  68,  58,  74, 165,  53,  54,  55,  61,  70,  80,  78,\n",
       "        72, 188,  73,  62,  75,  86, 197, 148,  67, 102,  64, 103, 144,\n",
       "         0,  81, 119, 104, 128,  87, 111,  66,  83, 135,  94,  91,  99,\n",
       "        77, 118, 202, 127,  93, 106, 155, 117,  76,  89,  85, 143, 105,\n",
       "       115,  95, 110, 137, 120, 116, 208, 126, 400, 101, 108, 333,  97,\n",
       "        96,  98, 125, 113, 327, 154, 121, 183, 123, 141, 224,  88, 195,\n",
       "       343, 156, 193, 100, 150, 122, 145, 174, 147, 131, 169, 164, 249,\n",
       "       114, 189, 223, 124, 139, 341, 469, 309, 162, 146, 270, 107, 153,\n",
       "       233, 161, 179, 129, 220, 191, 323, 431, 351, 132, 305, 175, 130,\n",
       "       166, 185, 245, 219, 167, 173, 109, 133, 149, 136, 168, 358, 466,\n",
       "       182, 340, 215, 142, 275, 134, 196, 324, 300, 190, 176, 210, 201,\n",
       "       232, 140, 199, 429, 151, 186])"
      ]
     },
     "execution_count": 42,
     "metadata": {},
     "output_type": "execute_result"
    }
   ],
   "source": [
    "train['totals.pageviews'].unique()"
   ]
  },
  {
   "cell_type": "code",
   "execution_count": 43,
   "metadata": {},
   "outputs": [
    {
     "data": {
      "text/plain": [
       "Index(['channelGrouping', 'date', 'fullVisitorId', 'sessionId', 'visitId',\n",
       "       'visitNumber', 'visitStartTime', 'device.browser',\n",
       "       'device.deviceCategory', 'device.isMobile', 'device.operatingSystem',\n",
       "       'geoNetwork.city', 'geoNetwork.continent', 'geoNetwork.country',\n",
       "       'geoNetwork.metro', 'geoNetwork.networkDomain', 'geoNetwork.region',\n",
       "       'geoNetwork.subContinent', 'totals.bounces', 'totals.hits',\n",
       "       'totals.newVisits', 'totals.pageviews', 'totals.transactionRevenue',\n",
       "       'trafficSource.adContent', 'trafficSource.adwordsClickInfo.gclId',\n",
       "       'trafficSource.adwordsClickInfo.isVideoAd',\n",
       "       'trafficSource.adwordsClickInfo.page', 'trafficSource.campaign',\n",
       "       'trafficSource.isTrueDirect', 'trafficSource.keyword',\n",
       "       'trafficSource.medium', 'trafficSource.referralPath',\n",
       "       'trafficSource.source',\n",
       "       'trafficSource.adwordsClickInfo.adNetworkType.Google_Search',\n",
       "       'trafficSource.adwordsClickInfo.adNetworkType.Search_partners',\n",
       "       'trafficSource.adwordsClickInfo.slot.Top',\n",
       "       'trafficSource.adwordsClickInfo.slot.RHS'],\n",
       "      dtype='object')"
      ]
     },
     "execution_count": 43,
     "metadata": {},
     "output_type": "execute_result"
    }
   ],
   "source": [
    "train.columns"
   ]
  },
  {
   "cell_type": "code",
   "execution_count": 44,
   "metadata": {},
   "outputs": [
    {
     "name": "stdout",
     "output_type": "stream",
     "text": [
      "CPU times: user 29.9 s, sys: 1.63 s, total: 31.6 s\n",
      "Wall time: 31.7 s\n"
     ]
    }
   ],
   "source": [
    "%%time\n",
    "train_1 = train[['date','fullVisitorId']]\n",
    "#channelGrouping\n",
    "train_1['channelGrouping.Organic_Search'] = train['channelGrouping'].map(lambda x : 1 if x == 'Organic Search' else 0)\n",
    "train_1['channelGrouping.Referral'] = train['channelGrouping'].map(lambda x : 1 if x == 'Referral' else 0)\n",
    "train_1['channelGrouping.Paid_Search'] = train['channelGrouping'].map(lambda x : 1 if x == 'Paid Search' else 0)\n",
    "train_1['channelGrouping.Affiliates'] = train['channelGrouping'].map(lambda x : 1 if x == 'Affiliates' else 0)\n",
    "train_1['channelGrouping.Direct'] = train['channelGrouping'].map(lambda x : 1 if x == 'Direct' else 0)\n",
    "train_1['channelGrouping.Display'] = train['channelGrouping'].map(lambda x : 1 if x == 'Display' else 0)\n",
    "train_1['channelGrouping.Social'] = train['channelGrouping'].map(lambda x : 1 if x == 'Social' else 0)\n",
    "train_1['channelGrouping.Other'] = train['channelGrouping'].map(lambda x : 1 if x == '(Other)' else 0)\n",
    "#sessionId\n",
    "train_1[\"sessionId_1\"] = train[\"sessionId\"].map(lambda x:x.split('_')[0]) \n",
    "train_1[\"sessionId_2\"] = train[\"sessionId\"].map(lambda x:x.split('_')[1])\n",
    "#device.browser\n",
    "train_1['device.browser.Chrome'] = train['device.browser'].map(lambda x : 1 if x == 'Chrome' else 0)\n",
    "train_1['device.browser.Firefox'] = train['device.browser'].map(lambda x : 1 if x == 'Firefox' else 0)\n",
    "train_1['device.browser.UC_Browser'] = train['device.browser'].map(lambda x : 1 if x == 'UC Browser' else 0)\n",
    "train_1['device.browser.Safari'] = train['device.browser'].map(lambda x : 1 if x == 'Safari' else 0)\n",
    "train_1['device.browser.Edge'] = train['device.browser'].map(lambda x : 1 if x == 'Edge' else 0)\n",
    "train_1['device.browser.Opera_Mini'] = train['device.browser'].map(lambda x : 1 if x == 'Opera Mini' else 0)\n",
    "train_1['device.browser.Opera'] = train['device.browser'].map(lambda x : 1 if x == 'Opera' else 0)\n",
    "train_1['device.browser.BlackBerry'] = train['device.browser'].map(lambda x : 1 if x == 'BlackBerry' else 0)\n",
    "train_1['device.browser.Safari (in-app)'] = train['device.browser'].map(lambda x : 1 if x == 'Safari (in-app)' else 0)\n",
    "train_1['device.browser.Coc_Coc'] = train['device.browser'].map(lambda x : 1 if x == 'Coc Coc' else 0)\n",
    "train_1['device.browser.Mozilla_Compatible_Agent'] = train['device.browser'].map(lambda x : 1 if x == 'Mozilla Compatible Agent' else 0)\n",
    "train_1['device.browser.ADM'] = train['device.browser'].map(lambda x : 1 if x == 'ADM' else 0)\n",
    "train_1['device.browser.MRCHROME'] = train['device.browser'].map(lambda x : 1 if x == 'MRCHROME' else 0)\n",
    "train_1['device.browser.Amazon_Silk'] = train['device.browser'].map(lambda x : 1 if x == 'Amazon Silk' else 0)\n",
    "train_1['device.browser.YaBrowser'] = train['device.browser'].map(lambda x : 1 if x == 'YaBrowser' else 0)\n",
    "train_1['device.browser.Android_Webview'] = train['device.browser'].map(lambda x : 1 if x == 'Android Webview' else 0)\n",
    "train_1['device.browser.Puffin'] = train['device.browser'].map(lambda x : 1 if x == 'Puffin' else 0)\n",
    "train_1['device.browser.Nokia_Browser'] = train['device.browser'].map(lambda x : 1 if x == 'Nokia Browser' else 0)\n",
    "train_1['device.browser.Maxthon'] = train['device.browser'].map(lambda x : 1 if x == 'Maxthon' else 0)\n",
    "train_1['device.browser.Nintendo_Browser'] = train['device.browser'].map(lambda x : 1 if x == 'Nintendo Browser' else 0)\n",
    "train_1['device.browser.Android_Browser'] = train['device.browser'].map(lambda x : 1 if x == 'Android Browser' else 0)\n",
    "train_1['device.browser.Lunascape'] = train['device.browser'].map(lambda x : 1 if x == 'Lunascape' else 0)\n",
    "train_1['device.browser.IE_with_Chrome_Frame'] = train['device.browser'].map(lambda x : 1 if x == 'IE with Chrome Frame' else 0)\n",
    "train_1['device.browser.ThumbSniper'] = train['device.browser'].map(lambda x : 1 if x == 'ThumbSniper' else 0)\n",
    "train_1['device.browser.LYF_LS_4002_12'] = train['device.browser'].map(lambda x : 1 if x == 'LYF_LS_4002_12' else 0)\n",
    "train_1['device.browser.Mozilla'] = train['device.browser'].map(lambda x : 1 if x == 'Mozilla' else 0)\n",
    "train_1['device.browser.osee2unifiedRelease'] = train['device.browser'].map(lambda x : 1 if x == 'osee2unifiedRelease' else 0)\n",
    "train_1['device.browser.NokiaE52-1'] = train['device.browser'].map(lambda x : 1 if x == 'NokiaE52-1' else 0)\n",
    "train_1['device.browser.Iron'] = train['device.browser'].map(lambda x : 1 if x == 'Iron' else 0)\n",
    "train_1['device.browser.[Use default User-agent string] LIVRENPOCHE'] = train['device.browser'].map(lambda x : 1 if x == '[Use default User-agent string] LIVRENPOCHE' else 0)\n",
    "train_1['device.browser.LYF_LS_4002_11'] = train['device.browser'].map(lambda x : 1 if x == 'LYF_LS_4002_11' else 0)\n",
    "train_1['device.browser.M5'] = train['device.browser'].map(lambda x : 1 if x == 'M5' else 0)\n",
    "train_1['device.browser.Android_Runtime'] = train['device.browser'].map(lambda x : 1 if x == 'Android Runtime' else 0)\n",
    "train_1['device.browser.Apple-iPhone7C2'] = train['device.browser'].map(lambda x : 1 if x == 'Apple-iPhone7C2' else 0)\n",
    "train_1['device.browser.SeaMonkey'] = train['device.browser'].map(lambda x : 1 if x == 'SeaMonkey' else 0)\n",
    "train_1['device.browser.Konqueror'] = train['device.browser'].map(lambda x : 1 if x == 'Konqueror' else 0)\n",
    "train_1['device.browser.Seznam'] = train['device.browser'].map(lambda x : 1 if x == 'Seznam' else 0)\n",
    "train_1['device.browser.Changa_99695759'] = train['device.browser'].map(lambda x : 1 if x == 'Changa 99695759' else 0)\n",
    "train_1['device.browser.no-ua'] = train['device.browser'].map(lambda x : 1 if x == 'no-ua' else 0)\n",
    "train_1['device.browser.MQQBrowser'] = train['device.browser'].map(lambda x : 1 if x == 'MQQBrowser' else 0)\n",
    "train_1['device.browser.Nichrome'] = train['device.browser'].map(lambda x : 1 if x == 'Nichrome' else 0)\n",
    "train_1['device.browser.HTC802t_TD'] = train['device.browser'].map(lambda x : 1 if x == 'HTC802t_TD' else 0)\n",
    "train_1['device.browser.DASH_JR_3G'] = train['device.browser'].map(lambda x : 1 if x == 'DASH_JR_3G' else 0)\n",
    "train_1['device.browser.DoCoMo'] = train['device.browser'].map(lambda x : 1 if x == 'DoCoMo' else 0)\n",
    "train_1['device.browser.subjectAgent: NoticiasBoom'] = train['device.browser'].map(lambda x : 1 if x == 'subjectAgent: NoticiasBoom' else 0)\n",
    "train_1['device.browser.YE'] = train['device.browser'].map(lambda x : 1 if x == 'YE' else 0)\n",
    "train_1['device.browser.User_Agent'] = train['device.browser'].map(lambda x : 1 if x == 'User Agent' else 0)\n",
    "train_1['device.browser.0'] = train['device.browser'].map(lambda x : 1 if x == '0' else 0)\n",
    "train_1['device.browser.Hisense M20-M_LTE'] = train['device.browser'].map(lambda x : 1 if x == 'Hisense M20-M_LTE' else 0)\n",
    "train_1['device.browser.Reddit'] = train['device.browser'].map(lambda x : 1 if x == 'Reddit' else 0)\n",
    "train_1['device.browser.TCL P500M'] = train['device.browser'].map(lambda x : 1 if x == 'TCL P500M' else 0)\n",
    "train_1['device.browser.CSM_Click'] = train['device.browser'].map(lambda x : 1 if x == 'CSM Click' else 0)\n",
    "train_1['device.browser.Internet_Explorer'] = train['device.browser'].map(lambda x : 1 if x == 'Internet Explorer' else 0)\n",
    "#device.deviceCategory\n",
    "train_1['device.deviceCategory.desktop'] = train['device.deviceCategory'].map(lambda x : 1 if x == 'desktop' else 0)\n",
    "train_1['device.deviceCategory.mobile'] = train['device.deviceCategory'].map(lambda x : 1 if x == 'mobile' else 0)\n",
    "train_1['device.deviceCategory.tablet'] = train['device.deviceCategory'].map(lambda x : 1 if x == 'tablet' else 0)\n",
    "#device.isMobile\n",
    "train_1['device.isMobile'] = train['device.isMobile'].T.apply(lambda x:1 if x==True else 0)\n",
    "#device.operatingSystem\n",
    "train_1['device.operatingSystem.Windows'] = train['device.operatingSystem'].map(lambda x : 1 if x == 'Windows' else 0)\n",
    "train_1['device.operatingSystem.Macintosh'] = train['device.operatingSystem'].map(lambda x : 1 if x == 'Macintosh' else 0)\n",
    "train_1['device.operatingSystem.Linux'] = train['device.operatingSystem'].map(lambda x : 1 if x == 'Linux' else 0)\n",
    "train_1['device.operatingSystem.iOS'] = train['device.operatingSystem'].map(lambda x : 1 if x == 'iOS' else 0)\n",
    "train_1['device.operatingSystem.Chrome_OS'] = train['device.operatingSystem'].map(lambda x : 1 if x == 'Chrome OS' else 0)\n",
    "train_1['device.operatingSystem.BlackBerry'] = train['device.operatingSystem'].map(lambda x : 1 if x == 'BlackBerry' else 0)\n",
    "train_1['device.operatingSystem.Samsung'] = train['device.operatingSystem'].map(lambda x : 1 if x == 'Samsung' else 0)\n",
    "train_1['device.operatingSystem.Windows_Phone'] = train['device.operatingSystem'].map(lambda x : 1 if x == 'Windows Phone' else 0)\n",
    "train_1['device.operatingSystem.Xbox'] = train['device.operatingSystem'].map(lambda x : 1 if x == 'Xbox' else 0)\n",
    "train_1['device.operatingSystem.Nintendo_Wii'] = train['device.operatingSystem'].map(lambda x : 1 if x == 'Nintendo Wii' else 0)\n",
    "train_1['device.operatingSystem.Firefox_OS'] = train['device.operatingSystem'].map(lambda x : 1 if x == 'Firefox OS' else 0)\n",
    "train_1['device.operatingSystem.Nintendo_WiiU'] = train['device.operatingSystem'].map(lambda x : 1 if x == 'Nintendo WiiU' else 0)\n",
    "train_1['device.operatingSystem.FreeBSD'] = train['device.operatingSystem'].map(lambda x : 1 if x == 'FreeBSD' else 0)\n",
    "train_1['device.operatingSystem.Nokia'] = train['device.operatingSystem'].map(lambda x : 1 if x == 'Nokia' else 0)\n",
    "train_1['device.operatingSystem.NTT_DoCoMo'] = train['device.operatingSystem'].map(lambda x : 1 if x == 'NTT DoCoMo' else 0)\n",
    "train_1['device.operatingSystem.Nintendo_3DS'] = train['device.operatingSystem'].map(lambda x : 1 if x == 'Nintendo 3DS' else 0)\n",
    "train_1['device.operatingSystem.SunOS'] = train['device.operatingSystem'].map(lambda x : 1 if x == 'SunOS' else 0)\n",
    "train_1['device.operatingSystem.OpenBSD'] = train['device.operatingSystem'].map(lambda x : 1 if x == 'OpenBSD' else 0)\n",
    "\n",
    "#geoNetwork.continent\n",
    "train_1['geoNetwork.continent.Asia'] = train['geoNetwork.continent'].map(lambda x : 1 if x == 'Asia' else 0)\n",
    "train_1['geoNetwork.continent.Oceania'] = train['geoNetwork.continent'].map(lambda x : 1 if x == 'Oceania' else 0)\n",
    "train_1['geoNetwork.continent.Europe'] = train['geoNetwork.continent'].map(lambda x : 1 if x == 'Europe' else 0)\n",
    "train_1['geoNetwork.continent.Americas'] = train['geoNetwork.continent'].map(lambda x : 1 if x == 'Americas' else 0)\n",
    "train_1['geoNetwork.continent.Africa'] = train['geoNetwork.continent'].map(lambda x : 1 if x == 'Africa' else 0)\n",
    "\n",
    "#totals.bounces\n",
    "train_1['totals.bounces'] = train['totals.bounces'].T.apply(lambda x : int(x))\n",
    "\n",
    "#trafficSource.campaign\n",
    "train_1['trafficSource.campaign.AW - Dynamic Search Ads Whole Site'] = train['trafficSource.campaign'].map(lambda x : 1 if x == 'AW - Dynamic Search Ads Whole Site' else 0)\n",
    "train_1['trafficSource.campaign.Data Share Promo'] = train['trafficSource.campaign'].map(lambda x : 1 if x == 'Data Share Promo' else 0)\n",
    "train_1['trafficSource.campaign.AW - Electronics'] = train['trafficSource.campaign'].map(lambda x : 1 if x == 'AW - Electronics' else 0)\n",
    "train_1['trafficSource.campaign.test-liyuhz'] = train['trafficSource.campaign'].map(lambda x : 1 if x == 'test-liyuhz' else 0)\n",
    "train_1['trafficSource.campaign.AW - Accessories'] = train['trafficSource.campaign'].map(lambda x : 1 if x == 'AW - Accessories' else 0)\n",
    "train_1['trafficSource.campaign.Retail (DO NOT EDIT owners nophakun and tianyu)'] = train['trafficSource.campaign'].map(lambda x : 1 if x == 'Retail (DO NOT EDIT owners nophakun and tianyu)' else 0)\n",
    "train_1['trafficSource.campaign.AW - Apparel'] = train['trafficSource.campaign'].map(lambda x : 1 if x == 'AW - Apparel' else 0)\n",
    "train_1['trafficSource.campaign.All Products'] = train['trafficSource.campaign'].map(lambda x : 1 if x == 'All Products' else 0)\n",
    "train_1['trafficSource.campaign.Data Share'] = train['trafficSource.campaign'].map(lambda x : 1 if x == 'Data Share' else 0)\n",
    "\n",
    "#trafficSource.medium\n",
    "train_1['trafficSource.medium.organic'] = train['trafficSource.medium'].map(lambda x : 1 if x == 'organic' else 0)\n",
    "train_1['trafficSource.medium.referral'] = train['trafficSource.medium'].map(lambda x : 1 if x == 'referral' else 0)\n",
    "train_1['trafficSource.medium.cpc'] = train['trafficSource.medium'].map(lambda x : 1 if x == 'cpc' else 0)\n",
    "train_1['trafficSource.medium.affiliate'] = train['trafficSource.medium'].map(lambda x : 1 if x == 'affiliate' else 0)\n",
    "train_1['trafficSource.medium.cpm'] = train['trafficSource.medium'].map(lambda x : 1 if x == 'cpm' else 0)\n",
    "train_1['trafficSource.medium.(none)'] = train['trafficSource.medium'].map(lambda x : 1 if x == '(none)' else 0)\n",
    "\n",
    "#\n",
    "train_1['visitId'] = train['visitId']\n",
    "\n",
    "train_1['visitNumber'] = train['visitNumber']\n",
    "\n",
    "train_1['visitStartTime'] = train['visitStartTime']\n",
    "\n",
    "train_1['totals.hits'] = train['totals.hits']\n",
    "\n",
    "\n",
    "#train_1['totals.visits'] = train['totals.visits']"
   ]
  },
  {
   "cell_type": "code",
   "execution_count": 45,
   "metadata": {},
   "outputs": [
    {
     "data": {
      "text/plain": [
       "(903653, 37)"
      ]
     },
     "execution_count": 45,
     "metadata": {},
     "output_type": "execute_result"
    }
   ],
   "source": [
    "train.shape"
   ]
  },
  {
   "cell_type": "code",
   "execution_count": 46,
   "metadata": {},
   "outputs": [
    {
     "data": {
      "text/plain": [
       "723803"
      ]
     },
     "execution_count": 46,
     "metadata": {},
     "output_type": "execute_result"
    }
   ],
   "source": [
    "train['fullVisitorId'].nunique()"
   ]
  },
  {
   "cell_type": "code",
   "execution_count": 47,
   "metadata": {},
   "outputs": [
    {
     "data": {
      "text/plain": [
       "(903653, 112)"
      ]
     },
     "execution_count": 47,
     "metadata": {},
     "output_type": "execute_result"
    }
   ],
   "source": [
    "train_1.shape"
   ]
  },
  {
   "cell_type": "code",
   "execution_count": 48,
   "metadata": {},
   "outputs": [
    {
     "data": {
      "text/plain": [
       "723803"
      ]
     },
     "execution_count": 48,
     "metadata": {},
     "output_type": "execute_result"
    }
   ],
   "source": [
    "train_1['fullVisitorId'].nunique()"
   ]
  },
  {
   "cell_type": "code",
   "execution_count": 51,
   "metadata": {},
   "outputs": [],
   "source": [
    "train_1['totals.transactionRevenue'] = train[['totals.transactionRevenue']]"
   ]
  },
  {
   "cell_type": "code",
   "execution_count": 52,
   "metadata": {},
   "outputs": [
    {
     "data": {
      "text/plain": [
       "(903653, 113)"
      ]
     },
     "execution_count": 52,
     "metadata": {},
     "output_type": "execute_result"
    }
   ],
   "source": [
    "train_1.shape"
   ]
  },
  {
   "cell_type": "code",
   "execution_count": 53,
   "metadata": {
    "collapsed": true
   },
   "outputs": [],
   "source": [
    "import csv\n",
    "train_1.to_csv('ml_train.csv',index = False)"
   ]
  },
  {
   "cell_type": "code",
   "execution_count": null,
   "metadata": {
    "collapsed": true
   },
   "outputs": [],
   "source": []
  }
 ],
 "metadata": {
  "kernelspec": {
   "display_name": "Python 3",
   "language": "python",
   "name": "python3"
  },
  "language_info": {
   "codemirror_mode": {
    "name": "ipython",
    "version": 3
   },
   "file_extension": ".py",
   "mimetype": "text/x-python",
   "name": "python",
   "nbconvert_exporter": "python",
   "pygments_lexer": "ipython3",
   "version": "3.6.2"
  }
 },
 "nbformat": 4,
 "nbformat_minor": 2
}
