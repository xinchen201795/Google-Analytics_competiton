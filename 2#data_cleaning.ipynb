{
 "cells": [
  {
   "cell_type": "code",
   "execution_count": 71,
   "metadata": {
    "collapsed": true
   },
   "outputs": [],
   "source": [
    "import pandas as pd\n",
    "import warnings\n",
    "warnings.filterwarnings('ignore')"
   ]
  },
  {
   "cell_type": "code",
   "execution_count": 72,
   "metadata": {
    "collapsed": true
   },
   "outputs": [],
   "source": [
    "train = pd.read_csv('json_train.csv')\n",
    "test = pd.read_csv('json_test.csv')"
   ]
  },
  {
   "cell_type": "code",
   "execution_count": 73,
   "metadata": {},
   "outputs": [
    {
     "data": {
      "text/plain": [
       "(903653, 35)"
      ]
     },
     "execution_count": 73,
     "metadata": {},
     "output_type": "execute_result"
    }
   ],
   "source": [
    "train.shape"
   ]
  },
  {
   "cell_type": "code",
   "execution_count": 74,
   "metadata": {},
   "outputs": [
    {
     "data": {
      "text/plain": [
       "(804684, 34)"
      ]
     },
     "execution_count": 74,
     "metadata": {},
     "output_type": "execute_result"
    }
   ],
   "source": [
    "test.shape"
   ]
  },
  {
   "cell_type": "code",
   "execution_count": 75,
   "metadata": {
    "collapsed": true
   },
   "outputs": [],
   "source": [
    "train['trafficSource.adwordsClickInfo.isVideoAd'] = train['trafficSource.adwordsClickInfo.isVideoAd'].fillna(1)\n",
    "\n",
    "train['trafficSource.adwordsClickInfo.isVideoAd'] = train['trafficSource.adwordsClickInfo.isVideoAd'].apply(lambda x:1 if x==1 else 0)\n",
    "\n",
    "train['trafficSource.adwordsClickInfo.page'] = train['trafficSource.adwordsClickInfo.page'].fillna(0)\n",
    "\n",
    "train['trafficSource.adwordsClickInfo.page'] = train['trafficSource.adwordsClickInfo.page'].apply(lambda s: int(s))\n",
    "\n",
    "train['trafficSource.adwordsClickInfo.adNetworkType.Google_Search'] = train['trafficSource.adwordsClickInfo.adNetworkType'].map(lambda x : 1 if x == 'Google Search' else 0)\n",
    "train['trafficSource.adwordsClickInfo.adNetworkType.Search_partners'] = train['trafficSource.adwordsClickInfo.adNetworkType'].map(lambda x : 1 if x == 'Search partners' else 0)\n",
    "\n",
    "train['trafficSource.adwordsClickInfo.slot.Top'] = train['trafficSource.adwordsClickInfo.slot'].map(lambda x : 1 if x == 'Top' else 0)\n",
    "train['trafficSource.adwordsClickInfo.slot.RHS'] = train['trafficSource.adwordsClickInfo.slot'].map(lambda x : 1 if x == 'RHS' else 0)\n",
    "\n",
    "train = train.drop(['trafficSource.adwordsClickInfo.adNetworkType','trafficSource.adwordsClickInfo.slot'],axis =1)\n",
    "\n",
    "train['totals.bounces'] =train['totals.bounces'].fillna(0)\n",
    "\n",
    "train['totals.newVisits'] = train['totals.newVisits'].fillna(0)\n",
    "\n",
    "train['totals.newVisits'] = train['totals.newVisits'].apply(lambda x:int(x))\n",
    "\n",
    "train['totals.pageviews'] = train['totals.pageviews'].fillna(0)\n",
    "\n",
    "train['totals.pageviews'] = train['totals.pageviews'].apply(lambda s:int(s))\n",
    "\n",
    "train['trafficSource.isTrueDirect'] = train['trafficSource.isTrueDirect'].fillna(0)\n",
    "\n",
    "train['trafficSource.isTrueDirect']= train['trafficSource.isTrueDirect'].apply(lambda x:1 if x!=0 else 0)"
   ]
  },
  {
   "cell_type": "code",
   "execution_count": 78,
   "metadata": {},
   "outputs": [
    {
     "data": {
      "text/plain": [
       "(903653, 37)"
      ]
     },
     "execution_count": 78,
     "metadata": {},
     "output_type": "execute_result"
    }
   ],
   "source": [
    "train.shape"
   ]
  },
  {
   "cell_type": "code",
   "execution_count": 79,
   "metadata": {
    "collapsed": true
   },
   "outputs": [],
   "source": [
    "import csv\n",
    "train.to_csv('train_clean.csv',index = False)"
   ]
  },
  {
   "cell_type": "code",
   "execution_count": 80,
   "metadata": {
    "collapsed": true
   },
   "outputs": [],
   "source": [
    "test['trafficSource.adwordsClickInfo.isVideoAd'] = test['trafficSource.adwordsClickInfo.isVideoAd'].fillna(1)\n",
    "\n",
    "test['trafficSource.adwordsClickInfo.isVideoAd'] = test['trafficSource.adwordsClickInfo.isVideoAd'].apply(lambda x:1 if x==1 else 0)\n",
    "\n",
    "test['trafficSource.adwordsClickInfo.page'] = test['trafficSource.adwordsClickInfo.page'].fillna(0)\n",
    "\n",
    "test['trafficSource.adwordsClickInfo.page'] = test['trafficSource.adwordsClickInfo.page'].apply(lambda s: int(s))\n",
    "\n",
    "test['trafficSource.adwordsClickInfo.adNetworkType.Google_Search'] = test['trafficSource.adwordsClickInfo.adNetworkType'].map(lambda x : 1 if x == 'Google Search' else 0)\n",
    "test['trafficSource.adwordsClickInfo.adNetworkType.Search_partners'] = test['trafficSource.adwordsClickInfo.adNetworkType'].map(lambda x : 1 if x == 'Search partners' else 0)\n",
    "\n",
    "test['trafficSource.adwordsClickInfo.slot.Top'] = test['trafficSource.adwordsClickInfo.slot'].map(lambda x : 1 if x == 'Top' else 0)\n",
    "test['trafficSource.adwordsClickInfo.slot.RHS'] = test['trafficSource.adwordsClickInfo.slot'].map(lambda x : 1 if x == 'RHS' else 0)\n",
    "\n",
    "test = test.drop(['trafficSource.adwordsClickInfo.adNetworkType','trafficSource.adwordsClickInfo.slot'],axis =1)\n",
    "\n",
    "test['totals.bounces'] =test['totals.bounces'].fillna(0)\n",
    "\n",
    "test['totals.newVisits'] = test['totals.newVisits'].fillna(0)\n",
    "\n",
    "test['totals.newVisits'] = test['totals.newVisits'].apply(lambda x:int(x))\n",
    "\n",
    "test['totals.pageviews'] = test['totals.pageviews'].fillna(0)\n",
    "\n",
    "test['totals.pageviews'] = test['totals.pageviews'].apply(lambda s:int(s))\n",
    "\n",
    "test['trafficSource.isTrueDirect'] = test['trafficSource.isTrueDirect'].fillna(0)\n",
    "\n",
    "test['trafficSource.isTrueDirect']= test['trafficSource.isTrueDirect'].apply(lambda x:1 if x!=0 else 0)"
   ]
  },
  {
   "cell_type": "code",
   "execution_count": 81,
   "metadata": {},
   "outputs": [
    {
     "data": {
      "text/plain": [
       "(804684, 36)"
      ]
     },
     "execution_count": 81,
     "metadata": {},
     "output_type": "execute_result"
    }
   ],
   "source": [
    "test.shape"
   ]
  },
  {
   "cell_type": "code",
   "execution_count": 82,
   "metadata": {
    "collapsed": true
   },
   "outputs": [],
   "source": [
    "test.to_csv('test_clean.csv',index = False)"
   ]
  }
 ],
 "metadata": {
  "kernelspec": {
   "display_name": "Python 3",
   "language": "python",
   "name": "python3"
  },
  "language_info": {
   "codemirror_mode": {
    "name": "ipython",
    "version": 3
   },
   "file_extension": ".py",
   "mimetype": "text/x-python",
   "name": "python",
   "nbconvert_exporter": "python",
   "pygments_lexer": "ipython3",
   "version": "3.6.2"
  }
 },
 "nbformat": 4,
 "nbformat_minor": 2
}
